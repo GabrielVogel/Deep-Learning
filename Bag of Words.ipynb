{
 "cells": [
  {
   "cell_type": "code",
   "execution_count": 44,
   "metadata": {},
   "outputs": [],
   "source": [
    "import torch.nn as nn\n",
    "import matplotlib.pyplot as plt\n",
    "import numpy as np\n",
    "import pandas as pd\n",
    "import torch.nn.functional as F\n",
    "import torch"
   ]
  },
  {
   "cell_type": "code",
   "execution_count": 172,
   "metadata": {},
   "outputs": [],
   "source": [
    "class SentimentAnalysis(nn.Module):\n",
    "    \n",
    "    def __init__(self, categories):\n",
    "        \n",
    "        super().__init__()\n",
    "        self.input_layer = nn.Linear(categories,1) \n",
    "        \n",
    "        \n",
    "    def forward(self,x):\n",
    "        \n",
    "        x = self.input_layer(x)\n",
    "              \n",
    "        return torch.sigmoid(x)"
   ]
  },
  {
   "cell_type": "code",
   "execution_count": 173,
   "metadata": {},
   "outputs": [],
   "source": [
    "text = ['I like dogs', 'I hate dogs', 'I enjoy this day', 'I hate this day', 'I dislike this day', \n",
    "        'I dislike him', 'I like cats', 'I hate cats', 'I like dolphins','I hate dolphins']\n",
    "labels = torch.FloatTensor([1,0,1,0,0,0,1,0,1,0])"
   ]
  },
  {
   "cell_type": "code",
   "execution_count": 174,
   "metadata": {},
   "outputs": [],
   "source": [
    "text = [[word.lower() for word in sentence.split()] for sentence in text]\n",
    "\n",
    "vocab = {}\n",
    "i = 0\n",
    "for sentence in text:\n",
    "    for word in sentence:\n",
    "        if word not in vocab:\n",
    "            vocab[word] = i\n",
    "            i += 1\n",
    "\n",
    "    \n",
    "matrix = torch.zeros(len(text), len(vocab))\n"
   ]
  },
  {
   "cell_type": "code",
   "execution_count": 175,
   "metadata": {},
   "outputs": [
    {
     "data": {
      "text/plain": [
       "tensor([[1., 1., 1., 0., 0., 0., 0., 0., 0., 0., 0.],\n",
       "        [1., 0., 1., 1., 0., 0., 0., 0., 0., 0., 0.],\n",
       "        [1., 0., 0., 0., 1., 1., 1., 0., 0., 0., 0.],\n",
       "        [1., 0., 0., 1., 0., 1., 1., 0., 0., 0., 0.],\n",
       "        [1., 0., 0., 0., 0., 1., 1., 1., 0., 0., 0.],\n",
       "        [1., 0., 0., 0., 0., 0., 0., 1., 1., 0., 0.],\n",
       "        [1., 1., 0., 0., 0., 0., 0., 0., 0., 1., 0.],\n",
       "        [1., 0., 0., 1., 0., 0., 0., 0., 0., 1., 0.],\n",
       "        [1., 1., 0., 0., 0., 0., 0., 0., 0., 0., 1.],\n",
       "        [1., 0., 0., 1., 0., 0., 0., 0., 0., 0., 1.]])"
      ]
     },
     "execution_count": 175,
     "metadata": {},
     "output_type": "execute_result"
    }
   ],
   "source": [
    "for i, sentence in enumerate(text):\n",
    "    for word in sentence:\n",
    "        matrix[i,vocab[word]] = 1\n",
    "matrix"
   ]
  },
  {
   "cell_type": "code",
   "execution_count": 182,
   "metadata": {},
   "outputs": [],
   "source": [
    "classifier = SentimentAnalysis(len(vocab))"
   ]
  },
  {
   "cell_type": "code",
   "execution_count": 183,
   "metadata": {},
   "outputs": [
    {
     "name": "stdout",
     "output_type": "stream",
     "text": [
      "tensor(0.6514, grad_fn=<BinaryCrossEntropyBackward>)\n",
      "tensor(0.6505, grad_fn=<BinaryCrossEntropyBackward>)\n",
      "tensor(0.6496, grad_fn=<BinaryCrossEntropyBackward>)\n",
      "tensor(0.6487, grad_fn=<BinaryCrossEntropyBackward>)\n",
      "tensor(0.6478, grad_fn=<BinaryCrossEntropyBackward>)\n",
      "tensor(0.6469, grad_fn=<BinaryCrossEntropyBackward>)\n",
      "tensor(0.6460, grad_fn=<BinaryCrossEntropyBackward>)\n",
      "tensor(0.6451, grad_fn=<BinaryCrossEntropyBackward>)\n",
      "tensor(0.6442, grad_fn=<BinaryCrossEntropyBackward>)\n",
      "tensor(0.6433, grad_fn=<BinaryCrossEntropyBackward>)\n",
      "tensor(0.6424, grad_fn=<BinaryCrossEntropyBackward>)\n",
      "tensor(0.6416, grad_fn=<BinaryCrossEntropyBackward>)\n",
      "tensor(0.6407, grad_fn=<BinaryCrossEntropyBackward>)\n",
      "tensor(0.6398, grad_fn=<BinaryCrossEntropyBackward>)\n",
      "tensor(0.6390, grad_fn=<BinaryCrossEntropyBackward>)\n",
      "tensor(0.6381, grad_fn=<BinaryCrossEntropyBackward>)\n",
      "tensor(0.6373, grad_fn=<BinaryCrossEntropyBackward>)\n",
      "tensor(0.6364, grad_fn=<BinaryCrossEntropyBackward>)\n",
      "tensor(0.6356, grad_fn=<BinaryCrossEntropyBackward>)\n",
      "tensor(0.6348, grad_fn=<BinaryCrossEntropyBackward>)\n",
      "tensor(0.6339, grad_fn=<BinaryCrossEntropyBackward>)\n",
      "tensor(0.6331, grad_fn=<BinaryCrossEntropyBackward>)\n",
      "tensor(0.6323, grad_fn=<BinaryCrossEntropyBackward>)\n",
      "tensor(0.6314, grad_fn=<BinaryCrossEntropyBackward>)\n",
      "tensor(0.6306, grad_fn=<BinaryCrossEntropyBackward>)\n",
      "tensor(0.6298, grad_fn=<BinaryCrossEntropyBackward>)\n",
      "tensor(0.6290, grad_fn=<BinaryCrossEntropyBackward>)\n",
      "tensor(0.6282, grad_fn=<BinaryCrossEntropyBackward>)\n",
      "tensor(0.6274, grad_fn=<BinaryCrossEntropyBackward>)\n",
      "tensor(0.6266, grad_fn=<BinaryCrossEntropyBackward>)\n",
      "tensor(0.6258, grad_fn=<BinaryCrossEntropyBackward>)\n",
      "tensor(0.6250, grad_fn=<BinaryCrossEntropyBackward>)\n",
      "tensor(0.6242, grad_fn=<BinaryCrossEntropyBackward>)\n",
      "tensor(0.6234, grad_fn=<BinaryCrossEntropyBackward>)\n",
      "tensor(0.6226, grad_fn=<BinaryCrossEntropyBackward>)\n",
      "tensor(0.6219, grad_fn=<BinaryCrossEntropyBackward>)\n",
      "tensor(0.6211, grad_fn=<BinaryCrossEntropyBackward>)\n",
      "tensor(0.6203, grad_fn=<BinaryCrossEntropyBackward>)\n",
      "tensor(0.6195, grad_fn=<BinaryCrossEntropyBackward>)\n",
      "tensor(0.6188, grad_fn=<BinaryCrossEntropyBackward>)\n",
      "tensor(0.6180, grad_fn=<BinaryCrossEntropyBackward>)\n",
      "tensor(0.6172, grad_fn=<BinaryCrossEntropyBackward>)\n",
      "tensor(0.6165, grad_fn=<BinaryCrossEntropyBackward>)\n",
      "tensor(0.6157, grad_fn=<BinaryCrossEntropyBackward>)\n",
      "tensor(0.6150, grad_fn=<BinaryCrossEntropyBackward>)\n",
      "tensor(0.6142, grad_fn=<BinaryCrossEntropyBackward>)\n",
      "tensor(0.6135, grad_fn=<BinaryCrossEntropyBackward>)\n",
      "tensor(0.6127, grad_fn=<BinaryCrossEntropyBackward>)\n",
      "tensor(0.6120, grad_fn=<BinaryCrossEntropyBackward>)\n",
      "tensor(0.6113, grad_fn=<BinaryCrossEntropyBackward>)\n",
      "tensor(0.6105, grad_fn=<BinaryCrossEntropyBackward>)\n",
      "tensor(0.6098, grad_fn=<BinaryCrossEntropyBackward>)\n",
      "tensor(0.6091, grad_fn=<BinaryCrossEntropyBackward>)\n",
      "tensor(0.6083, grad_fn=<BinaryCrossEntropyBackward>)\n",
      "tensor(0.6076, grad_fn=<BinaryCrossEntropyBackward>)\n",
      "tensor(0.6069, grad_fn=<BinaryCrossEntropyBackward>)\n",
      "tensor(0.6062, grad_fn=<BinaryCrossEntropyBackward>)\n",
      "tensor(0.6055, grad_fn=<BinaryCrossEntropyBackward>)\n",
      "tensor(0.6047, grad_fn=<BinaryCrossEntropyBackward>)\n",
      "tensor(0.6040, grad_fn=<BinaryCrossEntropyBackward>)\n",
      "tensor(0.6033, grad_fn=<BinaryCrossEntropyBackward>)\n",
      "tensor(0.6026, grad_fn=<BinaryCrossEntropyBackward>)\n",
      "tensor(0.6019, grad_fn=<BinaryCrossEntropyBackward>)\n",
      "tensor(0.6012, grad_fn=<BinaryCrossEntropyBackward>)\n",
      "tensor(0.6005, grad_fn=<BinaryCrossEntropyBackward>)\n",
      "tensor(0.5998, grad_fn=<BinaryCrossEntropyBackward>)\n",
      "tensor(0.5991, grad_fn=<BinaryCrossEntropyBackward>)\n",
      "tensor(0.5984, grad_fn=<BinaryCrossEntropyBackward>)\n",
      "tensor(0.5978, grad_fn=<BinaryCrossEntropyBackward>)\n",
      "tensor(0.5971, grad_fn=<BinaryCrossEntropyBackward>)\n",
      "tensor(0.5964, grad_fn=<BinaryCrossEntropyBackward>)\n",
      "tensor(0.5957, grad_fn=<BinaryCrossEntropyBackward>)\n",
      "tensor(0.5950, grad_fn=<BinaryCrossEntropyBackward>)\n",
      "tensor(0.5944, grad_fn=<BinaryCrossEntropyBackward>)\n",
      "tensor(0.5937, grad_fn=<BinaryCrossEntropyBackward>)\n",
      "tensor(0.5930, grad_fn=<BinaryCrossEntropyBackward>)\n",
      "tensor(0.5923, grad_fn=<BinaryCrossEntropyBackward>)\n",
      "tensor(0.5917, grad_fn=<BinaryCrossEntropyBackward>)\n",
      "tensor(0.5910, grad_fn=<BinaryCrossEntropyBackward>)\n",
      "tensor(0.5904, grad_fn=<BinaryCrossEntropyBackward>)\n",
      "tensor(0.5897, grad_fn=<BinaryCrossEntropyBackward>)\n",
      "tensor(0.5890, grad_fn=<BinaryCrossEntropyBackward>)\n",
      "tensor(0.5884, grad_fn=<BinaryCrossEntropyBackward>)\n",
      "tensor(0.5877, grad_fn=<BinaryCrossEntropyBackward>)\n",
      "tensor(0.5871, grad_fn=<BinaryCrossEntropyBackward>)\n",
      "tensor(0.5864, grad_fn=<BinaryCrossEntropyBackward>)\n",
      "tensor(0.5858, grad_fn=<BinaryCrossEntropyBackward>)\n",
      "tensor(0.5851, grad_fn=<BinaryCrossEntropyBackward>)\n",
      "tensor(0.5845, grad_fn=<BinaryCrossEntropyBackward>)\n",
      "tensor(0.5839, grad_fn=<BinaryCrossEntropyBackward>)\n",
      "tensor(0.5832, grad_fn=<BinaryCrossEntropyBackward>)\n",
      "tensor(0.5826, grad_fn=<BinaryCrossEntropyBackward>)\n",
      "tensor(0.5819, grad_fn=<BinaryCrossEntropyBackward>)\n",
      "tensor(0.5813, grad_fn=<BinaryCrossEntropyBackward>)\n",
      "tensor(0.5807, grad_fn=<BinaryCrossEntropyBackward>)\n",
      "tensor(0.5800, grad_fn=<BinaryCrossEntropyBackward>)\n",
      "tensor(0.5794, grad_fn=<BinaryCrossEntropyBackward>)\n",
      "tensor(0.5788, grad_fn=<BinaryCrossEntropyBackward>)\n",
      "tensor(0.5782, grad_fn=<BinaryCrossEntropyBackward>)\n",
      "tensor(0.5775, grad_fn=<BinaryCrossEntropyBackward>)\n"
     ]
    }
   ],
   "source": [
    "cost = nn.BCELoss()\n",
    "losses = []\n",
    "optimizer = torch.optim.SGD(classifier.parameters(), lr = 0.01)\n",
    "epochs = 100\n",
    "\n",
    "\n",
    "\n",
    "for i in range(epochs):\n",
    "    y_pred = classifier.forward(matrix)\n",
    "    \n",
    "    loss = cost(y_pred, labels)\n",
    "    \n",
    "    print(loss)\n",
    "    \n",
    "    \n",
    "    losses.append(loss)\n",
    "    \n",
    "    optimizer.zero_grad()\n",
    "    \n",
    "    loss.backward()\n",
    "    \n",
    "    optimizer.step()\n",
    "    "
   ]
  },
  {
   "cell_type": "code",
   "execution_count": 178,
   "metadata": {},
   "outputs": [
    {
     "data": {
      "text/plain": [
       "[<matplotlib.lines.Line2D at 0x268a7cefeb8>]"
      ]
     },
     "execution_count": 178,
     "metadata": {},
     "output_type": "execute_result"
    },
    {
     "data": {
      "image/png": "[encoded data removed]",
      "text/plain": [
       "<Figure size 432x288 with 1 Axes>"
      ]
     },
     "metadata": {
      "needs_background": "light"
     },
     "output_type": "display_data"
    }
   ],
   "source": [
    "plt.plot(losses)"
   ]
  },
  {
   "cell_type": "code",
   "execution_count": 180,
   "metadata": {},
   "outputs": [
    {
     "name": "stdout",
     "output_type": "stream",
     "text": [
      "Word:i ------ Sentiment:-0.22092340886592865\n",
      "Word:like ------ Sentiment:0.1688767522573471\n",
      "Word:dogs ------ Sentiment:-0.004150941502302885\n",
      "Word:hate ------ Sentiment:-0.25973549485206604\n",
      "Word:enjoy ------ Sentiment:0.05754153057932854\n",
      "Word:this ------ Sentiment:0.2783777713775635\n",
      "Word:day ------ Sentiment:-0.25822699069976807\n",
      "Word:dislike ------ Sentiment:-0.15536090731620789\n",
      "Word:him ------ Sentiment:0.1297753006219864\n",
      "Word:cats ------ Sentiment:0.11567426472902298\n",
      "Word:dolphins ------ Sentiment:-0.2243172824382782\n"
     ]
    }
   ],
   "source": [
    "values = classifier.input_layer.weight\n",
    "i = 0\n",
    "for word in vocab:\n",
    "    \n",
    "    print(f'Word:{word} ------ Sentiment:{values[0][i]}')\n",
    "    i += 1"
   ]
  }
 ],
 "metadata": {
  "kernelspec": {
   "display_name": "Python 3",
   "language": "python",
   "name": "python3"
  },
  "language_info": {
   "codemirror_mode": {
    "name": "ipython",
    "version": 3
   },
   "file_extension": ".py",
   "mimetype": "text/x-python",
   "name": "python",
   "nbconvert_exporter": "python",
   "pygments_lexer": "ipython3",
   "version": "3.6.8"
  }
 },
 "nbformat": 4,
 "nbformat_minor": 2
}
